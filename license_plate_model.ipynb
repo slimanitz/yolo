{
 "cells": [
  {
   "cell_type": "code",
   "execution_count": 1,
   "metadata": {},
   "outputs": [
    {
     "name": "stdout",
     "output_type": "stream",
     "text": [
      "Collecting openimages\n",
      "  Downloading openimages-0.0.1-py2.py3-none-any.whl.metadata (4.6 kB)\n",
      "Collecting boto3 (from openimages)\n",
      "  Downloading boto3-1.34.76-py3-none-any.whl.metadata (6.6 kB)\n",
      "Collecting cvdata (from openimages)\n",
      "  Downloading cvdata-0.0.3-py3-none-any.whl.metadata (7.2 kB)\n",
      "Collecting lxml (from openimages)\n",
      "  Downloading lxml-5.2.1-cp311-cp311-macosx_10_9_x86_64.whl.metadata (3.4 kB)\n",
      "Requirement already satisfied: pandas in ./.conda/lib/python3.11/site-packages (from openimages) (2.2.1)\n",
      "Requirement already satisfied: requests in ./.conda/lib/python3.11/site-packages (from openimages) (2.31.0)\n",
      "Requirement already satisfied: tqdm in ./.conda/lib/python3.11/site-packages (from openimages) (4.66.2)\n",
      "Collecting botocore<1.35.0,>=1.34.76 (from boto3->openimages)\n",
      "  Downloading botocore-1.34.76-py3-none-any.whl.metadata (5.7 kB)\n",
      "Collecting jmespath<2.0.0,>=0.7.1 (from boto3->openimages)\n",
      "  Downloading jmespath-1.0.1-py3-none-any.whl.metadata (7.6 kB)\n",
      "Collecting s3transfer<0.11.0,>=0.10.0 (from boto3->openimages)\n",
      "  Downloading s3transfer-0.10.1-py3-none-any.whl.metadata (1.7 kB)\n",
      "Requirement already satisfied: numpy in ./.conda/lib/python3.11/site-packages (from cvdata->openimages) (1.26.4)\n",
      "Requirement already satisfied: opencv-python in ./.conda/lib/python3.11/site-packages (from cvdata->openimages) (4.9.0.80)\n",
      "Requirement already satisfied: pillow in ./.conda/lib/python3.11/site-packages (from cvdata->openimages) (10.3.0)\n",
      "Requirement already satisfied: python-dateutil>=2.8.2 in ./.conda/lib/python3.11/site-packages (from pandas->openimages) (2.9.0)\n",
      "Requirement already satisfied: pytz>=2020.1 in ./.conda/lib/python3.11/site-packages (from pandas->openimages) (2024.1)\n",
      "Requirement already satisfied: tzdata>=2022.7 in ./.conda/lib/python3.11/site-packages (from pandas->openimages) (2024.1)\n",
      "Requirement already satisfied: charset-normalizer<4,>=2 in ./.conda/lib/python3.11/site-packages (from requests->openimages) (3.3.2)\n",
      "Requirement already satisfied: idna<4,>=2.5 in ./.conda/lib/python3.11/site-packages (from requests->openimages) (3.6)\n",
      "Requirement already satisfied: urllib3<3,>=1.21.1 in ./.conda/lib/python3.11/site-packages (from requests->openimages) (2.2.1)\n",
      "Requirement already satisfied: certifi>=2017.4.17 in ./.conda/lib/python3.11/site-packages (from requests->openimages) (2024.2.2)\n",
      "Requirement already satisfied: six>=1.5 in ./.conda/lib/python3.11/site-packages (from python-dateutil>=2.8.2->pandas->openimages) (1.16.0)\n",
      "Downloading openimages-0.0.1-py2.py3-none-any.whl (10 kB)\n",
      "Downloading boto3-1.34.76-py3-none-any.whl (139 kB)\n",
      "\u001b[2K   \u001b[90m━━━━━━━━━━━━━━━━━━━━━━━━━━━━━━━━━━━━━━━━\u001b[0m \u001b[32m139.3/139.3 kB\u001b[0m \u001b[31m4.5 MB/s\u001b[0m eta \u001b[36m0:00:00\u001b[0m\n",
      "\u001b[?25hDownloading cvdata-0.0.3-py3-none-any.whl (37 kB)\n",
      "Downloading lxml-5.2.1-cp311-cp311-macosx_10_9_x86_64.whl (4.6 MB)\n",
      "\u001b[2K   \u001b[90m━━━━━━━━━━━━━━━━━━━━━━━━━━━━━━━━━━━━━━━━\u001b[0m \u001b[32m4.6/4.6 MB\u001b[0m \u001b[31m33.0 MB/s\u001b[0m eta \u001b[36m0:00:00\u001b[0ma \u001b[36m0:00:01\u001b[0m\n",
      "\u001b[?25hDownloading botocore-1.34.76-py3-none-any.whl (12.1 MB)\n",
      "\u001b[2K   \u001b[90m━━━━━━━━━━━━━━━━━━━━━━━━━━━━━━━━━━━━━━━━\u001b[0m \u001b[32m12.1/12.1 MB\u001b[0m \u001b[31m43.4 MB/s\u001b[0m eta \u001b[36m0:00:00\u001b[0ma \u001b[36m0:00:01\u001b[0m\n",
      "\u001b[?25hDownloading jmespath-1.0.1-py3-none-any.whl (20 kB)\n",
      "Downloading s3transfer-0.10.1-py3-none-any.whl (82 kB)\n",
      "\u001b[2K   \u001b[90m━━━━━━━━━━━━━━━━━━━━━━━━━━━━━━━━━━━━━━━━\u001b[0m \u001b[32m82.2/82.2 kB\u001b[0m \u001b[31m6.0 MB/s\u001b[0m eta \u001b[36m0:00:00\u001b[0m\n",
      "\u001b[?25hInstalling collected packages: lxml, jmespath, botocore, s3transfer, boto3, cvdata, openimages\n",
      "Successfully installed boto3-1.34.76 botocore-1.34.76 cvdata-0.0.3 jmespath-1.0.1 lxml-5.2.1 openimages-0.0.1 s3transfer-0.10.1\n"
     ]
    }
   ],
   "source": [
    "!pip install openimages"
   ]
  },
  {
   "cell_type": "code",
   "execution_count": 6,
   "metadata": {},
   "outputs": [
    {
     "ename": "TypeError",
     "evalue": "download_images() missing 1 required positional argument: 'exclusions_path'",
     "output_type": "error",
     "traceback": [
      "\u001b[0;31m---------------------------------------------------------------------------\u001b[0m",
      "\u001b[0;31mTypeError\u001b[0m                                 Traceback (most recent call last)",
      "\u001b[1;32m/Users/slimanitz/workspace/yolo/license_plate_model.ipynb Cell 2\u001b[0m line \u001b[0;36m2\n\u001b[1;32m      <a href='vscode-notebook-cell:/Users/slimanitz/workspace/yolo/license_plate_model.ipynb#W0sZmlsZQ%3D%3D?line=0'>1</a>\u001b[0m \u001b[39mfrom\u001b[39;00m \u001b[39mopenimages\u001b[39;00m\u001b[39m.\u001b[39;00m\u001b[39mdownload\u001b[39;00m \u001b[39mimport\u001b[39;00m download_images\n\u001b[0;32m----> <a href='vscode-notebook-cell:/Users/slimanitz/workspace/yolo/license_plate_model.ipynb#W0sZmlsZQ%3D%3D?line=1'>2</a>\u001b[0m download_images(\u001b[39m\"\u001b[39;49m\u001b[39m./dataset\u001b[39;49m\u001b[39m\"\u001b[39;49m, [\u001b[39m\"\u001b[39;49m\u001b[39mVehicule registration plate\u001b[39;49m\u001b[39m\"\u001b[39;49m,])\n",
      "\u001b[0;31mTypeError\u001b[0m: download_images() missing 1 required positional argument: 'exclusions_path'"
     ]
    }
   ],
   "source": [
    "from openimages.download import download_images\n",
    "download_images(\"./dataset\", [\"Vehicule registration plate\",])"
   ]
  },
  {
   "cell_type": "code",
   "execution_count": 28,
   "metadata": {},
   "outputs": [
    {
     "name": "stderr",
     "output_type": "stream",
     "text": [
      "2024-04-03  15:35:01 INFO Downloading 100 train images for class 'vehicle registration plate'\n",
      "100%|██████████| 100/100 [00:06<00:00, 16.18it/s]\n",
      "2024-04-03  15:35:07 INFO Creating 100 train annotations (darknet) for class 'vehicle registration plate'\n",
      "100%|██████████| 100/100 [00:00<00:00, 130.01it/s]\n"
     ]
    },
    {
     "data": {
      "text/plain": [
       "{'vehicle registration plate': {'images_dir': './openimages/vehicle registration plate/images',\n",
       "  'annotations_dir': './openimages/vehicle registration plate/darknet'}}"
      ]
     },
     "execution_count": 28,
     "metadata": {},
     "output_type": "execute_result"
    }
   ],
   "source": [
    "from openimages.download import download_images,download_dataset\n",
    "download_dataset(\"./openimages\",[\"Vehicle registration plate\"], './exclusion.txt', limit=100,annotation_format=\"darknet\")\n"
   ]
  },
  {
   "cell_type": "markdown",
   "metadata": {},
   "source": [
    "# Training\n"
   ]
  },
  {
   "cell_type": "code",
   "execution_count": 45,
   "metadata": {},
   "outputs": [
    {
     "name": "stdout",
     "output_type": "stream",
     "text": [
      "YOLOv8m summary: 295 layers, 25902640 parameters, 0 gradients, 79.3 GFLOPs\n",
      "Ultralytics YOLOv8.1.42 🚀 Python-3.11.8 torch-2.2.2 CPU (Apple M1)\n",
      "\u001b[34m\u001b[1mengine/trainer: \u001b[0mtask=detect, mode=train, model=yolov8m.pt, data=./openimages/vehicle_registration_plate/data.yaml, epochs=100, time=None, patience=100, batch=16, imgsz=640, save=True, save_period=-1, cache=False, device=None, workers=8, project=None, name=train, exist_ok=False, pretrained=True, optimizer=auto, verbose=True, seed=0, deterministic=True, single_cls=False, rect=False, cos_lr=False, close_mosaic=10, resume=False, amp=True, fraction=1.0, profile=False, freeze=None, multi_scale=False, overlap_mask=True, mask_ratio=4, dropout=0.0, val=True, split=val, save_json=False, save_hybrid=False, conf=None, iou=0.7, max_det=300, half=False, dnn=False, plots=True, source=None, vid_stride=1, stream_buffer=False, visualize=False, augment=False, agnostic_nms=False, classes=None, retina_masks=False, embed=None, show=False, save_frames=False, save_txt=False, save_conf=False, save_crop=False, show_labels=True, show_conf=True, show_boxes=True, line_width=None, format=torchscript, keras=False, optimize=False, int8=False, dynamic=False, simplify=False, opset=None, workspace=4, nms=False, lr0=0.01, lrf=0.01, momentum=0.937, weight_decay=0.0005, warmup_epochs=3.0, warmup_momentum=0.8, warmup_bias_lr=0.1, box=7.5, cls=0.5, dfl=1.5, pose=12.0, kobj=1.0, label_smoothing=0.0, nbs=64, hsv_h=0.015, hsv_s=0.7, hsv_v=0.4, degrees=0.0, translate=0.1, scale=0.5, shear=0.0, perspective=0.0, flipud=0.0, fliplr=0.5, bgr=0.0, mosaic=1.0, mixup=0.0, copy_paste=0.0, auto_augment=randaugment, erasing=0.4, crop_fraction=1.0, cfg=None, tracker=botsort.yaml, save_dir=runs/detect/train\n",
      "Overriding model.yaml nc=80 with nc=1\n",
      "\n",
      "                   from  n    params  module                                       arguments                     \n",
      "  0                  -1  1      1392  ultralytics.nn.modules.conv.Conv             [3, 48, 3, 2]                 \n",
      "  1                  -1  1     41664  ultralytics.nn.modules.conv.Conv             [48, 96, 3, 2]                \n",
      "  2                  -1  2    111360  ultralytics.nn.modules.block.C2f             [96, 96, 2, True]             \n",
      "  3                  -1  1    166272  ultralytics.nn.modules.conv.Conv             [96, 192, 3, 2]               \n",
      "  4                  -1  4    813312  ultralytics.nn.modules.block.C2f             [192, 192, 4, True]           \n",
      "  5                  -1  1    664320  ultralytics.nn.modules.conv.Conv             [192, 384, 3, 2]              \n",
      "  6                  -1  4   3248640  ultralytics.nn.modules.block.C2f             [384, 384, 4, True]           \n",
      "  7                  -1  1   1991808  ultralytics.nn.modules.conv.Conv             [384, 576, 3, 2]              \n",
      "  8                  -1  2   3985920  ultralytics.nn.modules.block.C2f             [576, 576, 2, True]           \n",
      "  9                  -1  1    831168  ultralytics.nn.modules.block.SPPF            [576, 576, 5]                 \n",
      " 10                  -1  1         0  torch.nn.modules.upsampling.Upsample         [None, 2, 'nearest']          \n",
      " 11             [-1, 6]  1         0  ultralytics.nn.modules.conv.Concat           [1]                           \n",
      " 12                  -1  2   1993728  ultralytics.nn.modules.block.C2f             [960, 384, 2]                 \n",
      " 13                  -1  1         0  torch.nn.modules.upsampling.Upsample         [None, 2, 'nearest']          \n",
      " 14             [-1, 4]  1         0  ultralytics.nn.modules.conv.Concat           [1]                           \n",
      " 15                  -1  2    517632  ultralytics.nn.modules.block.C2f             [576, 192, 2]                 \n",
      " 16                  -1  1    332160  ultralytics.nn.modules.conv.Conv             [192, 192, 3, 2]              \n",
      " 17            [-1, 12]  1         0  ultralytics.nn.modules.conv.Concat           [1]                           \n",
      " 18                  -1  2   1846272  ultralytics.nn.modules.block.C2f             [576, 384, 2]                 \n",
      " 19                  -1  1   1327872  ultralytics.nn.modules.conv.Conv             [384, 384, 3, 2]              \n",
      " 20             [-1, 9]  1         0  ultralytics.nn.modules.conv.Concat           [1]                           \n",
      " 21                  -1  2   4207104  ultralytics.nn.modules.block.C2f             [960, 576, 2]                 \n",
      " 22        [15, 18, 21]  1   3776275  ultralytics.nn.modules.head.Detect           [1, [192, 384, 576]]          \n",
      "Model summary: 295 layers, 25856899 parameters, 25856883 gradients, 79.1 GFLOPs\n",
      "\n",
      "Transferred 469/475 items from pretrained weights\n",
      "Freezing layer 'model.22.dfl.conv.weight'\n"
     ]
    },
    {
     "name": "stderr",
     "output_type": "stream",
     "text": [
      "\u001b[34m\u001b[1mtrain: \u001b[0mScanning /Users/slimanitz/workspace/yolo/openimages/vehicle_registration_plate/labels.cache... 100 images, 0 backgrounds, 0 corrupt: 100%|██████████| 100/100 [00:00<?, ?it/s]\n",
      "\u001b[34m\u001b[1mval: \u001b[0mScanning /Users/slimanitz/workspace/yolo/openimages/vehicle_registration_plate/labels.cache... 100 images, 0 backgrounds, 0 corrupt: 100%|██████████| 100/100 [00:00<?, ?it/s]"
     ]
    },
    {
     "name": "stdout",
     "output_type": "stream",
     "text": [
      "Plotting labels to runs/detect/train/labels.jpg... \n"
     ]
    },
    {
     "name": "stderr",
     "output_type": "stream",
     "text": [
      "\n"
     ]
    },
    {
     "name": "stdout",
     "output_type": "stream",
     "text": [
      "\u001b[34m\u001b[1moptimizer:\u001b[0m 'optimizer=auto' found, ignoring 'lr0=0.01' and 'momentum=0.937' and determining best 'optimizer', 'lr0' and 'momentum' automatically... \n",
      "\u001b[34m\u001b[1moptimizer:\u001b[0m AdamW(lr=0.002, momentum=0.9) with parameter groups 77 weight(decay=0.0), 84 weight(decay=0.0005), 83 bias(decay=0.0)\n",
      "Image sizes 640 train, 640 val\n",
      "Using 0 dataloader workers\n",
      "Logging results to \u001b[1mruns/detect/train\u001b[0m\n",
      "Starting training for 100 epochs...\n",
      "\n",
      "      Epoch    GPU_mem   box_loss   cls_loss   dfl_loss  Instances       Size\n"
     ]
    },
    {
     "name": "stderr",
     "output_type": "stream",
     "text": [
      "      1/100         0G      1.445      4.805       1.21         15        640: 100%|██████████| 7/7 [07:06<00:00, 60.97s/it]\n",
      "                 Class     Images  Instances      Box(P          R      mAP50  mAP50-95): 100%|██████████| 4/4 [01:19<00:00, 19.81s/it]"
     ]
    },
    {
     "name": "stdout",
     "output_type": "stream",
     "text": [
      "                   all        100        135      0.527      0.454      0.442      0.266\n"
     ]
    },
    {
     "name": "stderr",
     "output_type": "stream",
     "text": [
      "\n"
     ]
    },
    {
     "name": "stdout",
     "output_type": "stream",
     "text": [
      "\n",
      "      Epoch    GPU_mem   box_loss   cls_loss   dfl_loss  Instances       Size\n"
     ]
    },
    {
     "name": "stderr",
     "output_type": "stream",
     "text": [
      "      2/100         0G      1.337      2.262      1.051         25        640:  57%|█████▋    | 4/7 [04:42<03:32, 70.70s/it]\n"
     ]
    },
    {
     "ename": "KeyboardInterrupt",
     "evalue": "",
     "output_type": "error",
     "traceback": [
      "\u001b[0;31m---------------------------------------------------------------------------\u001b[0m",
      "\u001b[0;31mKeyboardInterrupt\u001b[0m                         Traceback (most recent call last)",
      "\u001b[1;32m/Users/slimanitz/workspace/yolo/license_plate_model.ipynb Cell 5\u001b[0m line \u001b[0;36m1\n\u001b[1;32m      <a href='vscode-notebook-cell:/Users/slimanitz/workspace/yolo/license_plate_model.ipynb#W4sZmlsZQ%3D%3D?line=6'>7</a>\u001b[0m model\u001b[39m.\u001b[39minfo()\n\u001b[1;32m      <a href='vscode-notebook-cell:/Users/slimanitz/workspace/yolo/license_plate_model.ipynb#W4sZmlsZQ%3D%3D?line=8'>9</a>\u001b[0m \u001b[39m# Train the model on the COCO8 example dataset for 100 epochs\u001b[39;00m\n\u001b[0;32m---> <a href='vscode-notebook-cell:/Users/slimanitz/workspace/yolo/license_plate_model.ipynb#W4sZmlsZQ%3D%3D?line=9'>10</a>\u001b[0m results \u001b[39m=\u001b[39m model\u001b[39m.\u001b[39;49mtrain(data\u001b[39m=\u001b[39;49m\u001b[39m'\u001b[39;49m\u001b[39m./openimages/vehicle_registration_plate/data.yaml\u001b[39;49m\u001b[39m'\u001b[39;49m, epochs\u001b[39m=\u001b[39;49m\u001b[39m100\u001b[39;49m, imgsz\u001b[39m=\u001b[39;49m\u001b[39m640\u001b[39;49m,task\u001b[39m=\u001b[39;49m\u001b[39m\"\u001b[39;49m\u001b[39mdetect\u001b[39;49m\u001b[39m\"\u001b[39;49m)\n\u001b[1;32m     <a href='vscode-notebook-cell:/Users/slimanitz/workspace/yolo/license_plate_model.ipynb#W4sZmlsZQ%3D%3D?line=11'>12</a>\u001b[0m \u001b[39m# check model performance on image\u001b[39;00m\n\u001b[1;32m     <a href='vscode-notebook-cell:/Users/slimanitz/workspace/yolo/license_plate_model.ipynb#W4sZmlsZQ%3D%3D?line=12'>13</a>\u001b[0m results \u001b[39m=\u001b[39m model(\u001b[39m'\u001b[39m\u001b[39m./screen.png\u001b[39m\u001b[39m'\u001b[39m,save_img\u001b[39m=\u001b[39m\u001b[39mTrue\u001b[39;00m)\n",
      "File \u001b[0;32m~/workspace/yolo/.conda/lib/python3.11/site-packages/ultralytics/engine/model.py:667\u001b[0m, in \u001b[0;36mModel.train\u001b[0;34m(self, trainer, **kwargs)\u001b[0m\n\u001b[1;32m    664\u001b[0m             \u001b[39mpass\u001b[39;00m\n\u001b[1;32m    666\u001b[0m \u001b[39mself\u001b[39m\u001b[39m.\u001b[39mtrainer\u001b[39m.\u001b[39mhub_session \u001b[39m=\u001b[39m \u001b[39mself\u001b[39m\u001b[39m.\u001b[39msession  \u001b[39m# attach optional HUB session\u001b[39;00m\n\u001b[0;32m--> 667\u001b[0m \u001b[39mself\u001b[39;49m\u001b[39m.\u001b[39;49mtrainer\u001b[39m.\u001b[39;49mtrain()\n\u001b[1;32m    668\u001b[0m \u001b[39m# Update model and cfg after training\u001b[39;00m\n\u001b[1;32m    669\u001b[0m \u001b[39mif\u001b[39;00m RANK \u001b[39min\u001b[39;00m {\u001b[39m-\u001b[39m\u001b[39m1\u001b[39m, \u001b[39m0\u001b[39m}:\n",
      "File \u001b[0;32m~/workspace/yolo/.conda/lib/python3.11/site-packages/ultralytics/engine/trainer.py:198\u001b[0m, in \u001b[0;36mBaseTrainer.train\u001b[0;34m(self)\u001b[0m\n\u001b[1;32m    195\u001b[0m         ddp_cleanup(\u001b[39mself\u001b[39m, \u001b[39mstr\u001b[39m(file))\n\u001b[1;32m    197\u001b[0m \u001b[39melse\u001b[39;00m:\n\u001b[0;32m--> 198\u001b[0m     \u001b[39mself\u001b[39;49m\u001b[39m.\u001b[39;49m_do_train(world_size)\n",
      "File \u001b[0;32m~/workspace/yolo/.conda/lib/python3.11/site-packages/ultralytics/engine/trainer.py:378\u001b[0m, in \u001b[0;36mBaseTrainer._do_train\u001b[0;34m(self, world_size)\u001b[0m\n\u001b[1;32m    373\u001b[0m     \u001b[39mself\u001b[39m\u001b[39m.\u001b[39mtloss \u001b[39m=\u001b[39m (\n\u001b[1;32m    374\u001b[0m         (\u001b[39mself\u001b[39m\u001b[39m.\u001b[39mtloss \u001b[39m*\u001b[39m i \u001b[39m+\u001b[39m \u001b[39mself\u001b[39m\u001b[39m.\u001b[39mloss_items) \u001b[39m/\u001b[39m (i \u001b[39m+\u001b[39m \u001b[39m1\u001b[39m) \u001b[39mif\u001b[39;00m \u001b[39mself\u001b[39m\u001b[39m.\u001b[39mtloss \u001b[39mis\u001b[39;00m \u001b[39mnot\u001b[39;00m \u001b[39mNone\u001b[39;00m \u001b[39melse\u001b[39;00m \u001b[39mself\u001b[39m\u001b[39m.\u001b[39mloss_items\n\u001b[1;32m    375\u001b[0m     )\n\u001b[1;32m    377\u001b[0m \u001b[39m# Backward\u001b[39;00m\n\u001b[0;32m--> 378\u001b[0m \u001b[39mself\u001b[39;49m\u001b[39m.\u001b[39;49mscaler\u001b[39m.\u001b[39;49mscale(\u001b[39mself\u001b[39;49m\u001b[39m.\u001b[39;49mloss)\u001b[39m.\u001b[39;49mbackward()\n\u001b[1;32m    380\u001b[0m \u001b[39m# Optimize - https://pytorch.org/docs/master/notes/amp_examples.html\u001b[39;00m\n\u001b[1;32m    381\u001b[0m \u001b[39mif\u001b[39;00m ni \u001b[39m-\u001b[39m last_opt_step \u001b[39m>\u001b[39m\u001b[39m=\u001b[39m \u001b[39mself\u001b[39m\u001b[39m.\u001b[39maccumulate:\n",
      "File \u001b[0;32m~/workspace/yolo/.conda/lib/python3.11/site-packages/torch/_tensor.py:522\u001b[0m, in \u001b[0;36mTensor.backward\u001b[0;34m(self, gradient, retain_graph, create_graph, inputs)\u001b[0m\n\u001b[1;32m    512\u001b[0m \u001b[39mif\u001b[39;00m has_torch_function_unary(\u001b[39mself\u001b[39m):\n\u001b[1;32m    513\u001b[0m     \u001b[39mreturn\u001b[39;00m handle_torch_function(\n\u001b[1;32m    514\u001b[0m         Tensor\u001b[39m.\u001b[39mbackward,\n\u001b[1;32m    515\u001b[0m         (\u001b[39mself\u001b[39m,),\n\u001b[0;32m   (...)\u001b[0m\n\u001b[1;32m    520\u001b[0m         inputs\u001b[39m=\u001b[39minputs,\n\u001b[1;32m    521\u001b[0m     )\n\u001b[0;32m--> 522\u001b[0m torch\u001b[39m.\u001b[39;49mautograd\u001b[39m.\u001b[39;49mbackward(\n\u001b[1;32m    523\u001b[0m     \u001b[39mself\u001b[39;49m, gradient, retain_graph, create_graph, inputs\u001b[39m=\u001b[39;49minputs\n\u001b[1;32m    524\u001b[0m )\n",
      "File \u001b[0;32m~/workspace/yolo/.conda/lib/python3.11/site-packages/torch/autograd/__init__.py:266\u001b[0m, in \u001b[0;36mbackward\u001b[0;34m(tensors, grad_tensors, retain_graph, create_graph, grad_variables, inputs)\u001b[0m\n\u001b[1;32m    261\u001b[0m     retain_graph \u001b[39m=\u001b[39m create_graph\n\u001b[1;32m    263\u001b[0m \u001b[39m# The reason we repeat the same comment below is that\u001b[39;00m\n\u001b[1;32m    264\u001b[0m \u001b[39m# some Python versions print out the first line of a multi-line function\u001b[39;00m\n\u001b[1;32m    265\u001b[0m \u001b[39m# calls in the traceback and some print out the last line\u001b[39;00m\n\u001b[0;32m--> 266\u001b[0m Variable\u001b[39m.\u001b[39;49m_execution_engine\u001b[39m.\u001b[39;49mrun_backward(  \u001b[39m# Calls into the C++ engine to run the backward pass\u001b[39;49;00m\n\u001b[1;32m    267\u001b[0m     tensors,\n\u001b[1;32m    268\u001b[0m     grad_tensors_,\n\u001b[1;32m    269\u001b[0m     retain_graph,\n\u001b[1;32m    270\u001b[0m     create_graph,\n\u001b[1;32m    271\u001b[0m     inputs,\n\u001b[1;32m    272\u001b[0m     allow_unreachable\u001b[39m=\u001b[39;49m\u001b[39mTrue\u001b[39;49;00m,\n\u001b[1;32m    273\u001b[0m     accumulate_grad\u001b[39m=\u001b[39;49m\u001b[39mTrue\u001b[39;49;00m,\n\u001b[1;32m    274\u001b[0m )\n",
      "\u001b[0;31mKeyboardInterrupt\u001b[0m: "
     ]
    }
   ],
   "source": [
    "from ultralytics import YOLO\n",
    "\n",
    "# Load a COCO-pretrained YOLOv8n model\n",
    "model = YOLO('yolov8m.pt')\n",
    "\n",
    "# Display model information (optional)\n",
    "model.info()\n",
    "\n",
    "# Train the model on the COCO8 example dataset for 100 epochs\n",
    "results = model.train(data='./openimages/vehicle_registration_plate/data.yaml', epochs=100, imgsz=640,task=\"detect\")\n",
    "\n",
    "# check model performance on image\n",
    "results = model('./screen.png',save_img=True)\n",
    "results"
   ]
  },
  {
   "cell_type": "code",
   "execution_count": null,
   "metadata": {},
   "outputs": [
    {
     "name": "stdout",
     "output_type": "stream",
     "text": [
      "Ultralytics YOLOv8.1.42 🚀 Python-3.11.8 torch-2.2.2 CPU (Apple M1)\n",
      "[W NNPACK.cpp:64] Could not initialize NNPACK! Reason: Unsupported hardware.\n",
      "Model summary (fused): 168 layers, 3005843 parameters, 0 gradients, 8.1 GFLOPs\n",
      "\n",
      "image 1/100 /Users/slimanitz/workspace/yolo/openimages/vehicle_registration_plate/images/00009e5b390986a0.jpg: 448x640 (no detections), 233.8ms\n",
      "image 2/100 /Users/slimanitz/workspace/yolo/openimages/vehicle_registration_plate/images/000228608388803f.jpg: 480x640 (no detections), 184.0ms\n",
      "image 3/100 /Users/slimanitz/workspace/yolo/openimages/vehicle_registration_plate/images/0002a5b67e5f0909.jpg: 480x640 (no detections), 132.3ms\n",
      "image 4/100 /Users/slimanitz/workspace/yolo/openimages/vehicle_registration_plate/images/00043e7c5c4c025a.jpg: 480x640 (no detections), 127.6ms\n",
      "image 5/100 /Users/slimanitz/workspace/yolo/openimages/vehicle_registration_plate/images/0005ea10e0e14db1.jpg: 448x640 (no detections), 137.9ms\n",
      "image 6/100 /Users/slimanitz/workspace/yolo/openimages/vehicle_registration_plate/images/0006dc0977056410.jpg: 608x640 (no detections), 205.2ms\n",
      "image 7/100 /Users/slimanitz/workspace/yolo/openimages/vehicle_registration_plate/images/00071c51c8e92a68.jpg: 640x640 (no detections), 216.9ms\n",
      "image 8/100 /Users/slimanitz/workspace/yolo/openimages/vehicle_registration_plate/images/00072b81abc72d21.jpg: 448x640 (no detections), 120.7ms\n",
      "image 9/100 /Users/slimanitz/workspace/yolo/openimages/vehicle_registration_plate/images/0007870724402b51.jpg: 640x448 (no detections), 183.9ms\n",
      "image 10/100 /Users/slimanitz/workspace/yolo/openimages/vehicle_registration_plate/images/000812dcf304a8e7.jpg: 576x640 (no detections), 247.2ms\n",
      "image 11/100 /Users/slimanitz/workspace/yolo/openimages/vehicle_registration_plate/images/000883b46adeca7e.jpg: 512x640 (no detections), 187.3ms\n",
      "image 12/100 /Users/slimanitz/workspace/yolo/openimages/vehicle_registration_plate/images/0009c4ddcaab18d3.jpg: 480x640 (no detections), 130.1ms\n",
      "image 13/100 /Users/slimanitz/workspace/yolo/openimages/vehicle_registration_plate/images/000f52302c1341eb.jpg: 448x640 (no detections), 120.7ms\n",
      "image 14/100 /Users/slimanitz/workspace/yolo/openimages/vehicle_registration_plate/images/00103aa8df33633a.jpg: 448x640 (no detections), 131.1ms\n",
      "image 15/100 /Users/slimanitz/workspace/yolo/openimages/vehicle_registration_plate/images/001065dbc46c29c8.jpg: 384x640 (no detections), 173.5ms\n",
      "image 16/100 /Users/slimanitz/workspace/yolo/openimages/vehicle_registration_plate/images/0010f4c10f7ab07e.jpg: 480x640 (no detections), 136.5ms\n",
      "image 17/100 /Users/slimanitz/workspace/yolo/openimages/vehicle_registration_plate/images/0011d11a6a5ab5ad.jpg: 416x640 (no detections), 197.1ms\n",
      "image 18/100 /Users/slimanitz/workspace/yolo/openimages/vehicle_registration_plate/images/0014e05dcc74d3f3.jpg: 480x640 (no detections), 193.7ms\n",
      "image 19/100 /Users/slimanitz/workspace/yolo/openimages/vehicle_registration_plate/images/0015ed86d644a332.jpg: 512x640 (no detections), 143.3ms\n",
      "image 20/100 /Users/slimanitz/workspace/yolo/openimages/vehicle_registration_plate/images/00166578c691cd43.jpg: 640x480 (no detections), 185.8ms\n",
      "image 21/100 /Users/slimanitz/workspace/yolo/openimages/vehicle_registration_plate/images/001679a19bb6fd3f.jpg: 480x640 (no detections), 131.8ms\n",
      "image 22/100 /Users/slimanitz/workspace/yolo/openimages/vehicle_registration_plate/images/00179ef6f55e4ba6.jpg: 448x640 (no detections), 118.0ms\n",
      "image 23/100 /Users/slimanitz/workspace/yolo/openimages/vehicle_registration_plate/images/0018e004f5cac5e0.jpg: 448x640 (no detections), 150.7ms\n",
      "image 24/100 /Users/slimanitz/workspace/yolo/openimages/vehicle_registration_plate/images/00192c1070c51ae3.jpg: 448x640 (no detections), 124.5ms\n",
      "image 25/100 /Users/slimanitz/workspace/yolo/openimages/vehicle_registration_plate/images/001bebecea382500.jpg: 480x640 (no detections), 143.9ms\n",
      "image 26/100 /Users/slimanitz/workspace/yolo/openimages/vehicle_registration_plate/images/001ca84e28488f7a.jpg: 448x640 (no detections), 133.0ms\n",
      "image 27/100 /Users/slimanitz/workspace/yolo/openimages/vehicle_registration_plate/images/001cdd25e148cd36.jpg: 480x640 (no detections), 136.0ms\n",
      "image 28/100 /Users/slimanitz/workspace/yolo/openimages/vehicle_registration_plate/images/001ddeda193f5789.jpg: 448x640 (no detections), 159.3ms\n",
      "image 29/100 /Users/slimanitz/workspace/yolo/openimages/vehicle_registration_plate/images/0021804a9f9d5db6.jpg: 640x480 (no detections), 143.8ms\n",
      "image 30/100 /Users/slimanitz/workspace/yolo/openimages/vehicle_registration_plate/images/0021af0b921af690.jpg: 384x640 (no detections), 117.0ms\n",
      "image 31/100 /Users/slimanitz/workspace/yolo/openimages/vehicle_registration_plate/images/0022fdfc1880d432.jpg: 480x640 (no detections), 135.2ms\n",
      "image 32/100 /Users/slimanitz/workspace/yolo/openimages/vehicle_registration_plate/images/00234c09cb4fa8e3.jpg: 480x640 (no detections), 134.1ms\n",
      "image 33/100 /Users/slimanitz/workspace/yolo/openimages/vehicle_registration_plate/images/0023d0908e76c600.jpg: 480x640 (no detections), 172.3ms\n",
      "image 34/100 /Users/slimanitz/workspace/yolo/openimages/vehicle_registration_plate/images/0023f6548005edf9.jpg: 416x640 (no detections), 130.5ms\n",
      "image 35/100 /Users/slimanitz/workspace/yolo/openimages/vehicle_registration_plate/images/002519f868563098.jpg: 448x640 (no detections), 129.6ms\n",
      "image 36/100 /Users/slimanitz/workspace/yolo/openimages/vehicle_registration_plate/images/002521102ecfac4c.jpg: 640x480 (no detections), 145.4ms\n",
      "image 37/100 /Users/slimanitz/workspace/yolo/openimages/vehicle_registration_plate/images/0025288e6192dc18.jpg: 448x640 (no detections), 146.5ms\n",
      "image 38/100 /Users/slimanitz/workspace/yolo/openimages/vehicle_registration_plate/images/002635f5f3dfd5b9.jpg: 448x640 (no detections), 131.0ms\n",
      "image 39/100 /Users/slimanitz/workspace/yolo/openimages/vehicle_registration_plate/images/00268794e47eba14.jpg: 448x640 (no detections), 129.5ms\n",
      "image 40/100 /Users/slimanitz/workspace/yolo/openimages/vehicle_registration_plate/images/0026c246d5c33bea.jpg: 448x640 (no detections), 135.0ms\n",
      "image 41/100 /Users/slimanitz/workspace/yolo/openimages/vehicle_registration_plate/images/00272dd158c0663a.jpg: 448x640 (no detections), 132.8ms\n",
      "image 42/100 /Users/slimanitz/workspace/yolo/openimages/vehicle_registration_plate/images/002901d9d194c4fb.jpg: 480x640 (no detections), 138.6ms\n",
      "image 43/100 /Users/slimanitz/workspace/yolo/openimages/vehicle_registration_plate/images/00293842c1405567.jpg: 640x480 (no detections), 138.4ms\n",
      "image 44/100 /Users/slimanitz/workspace/yolo/openimages/vehicle_registration_plate/images/0029cb5bf907f89e.jpg: 448x640 (no detections), 135.7ms\n",
      "image 45/100 /Users/slimanitz/workspace/yolo/openimages/vehicle_registration_plate/images/002b11030ee89858.jpg: 448x640 (no detections), 132.3ms\n",
      "image 46/100 /Users/slimanitz/workspace/yolo/openimages/vehicle_registration_plate/images/002c48dd05cc3b85.jpg: 448x640 (no detections), 140.0ms\n",
      "image 47/100 /Users/slimanitz/workspace/yolo/openimages/vehicle_registration_plate/images/002cff1919a39fe7.jpg: 480x640 (no detections), 141.2ms\n",
      "image 48/100 /Users/slimanitz/workspace/yolo/openimages/vehicle_registration_plate/images/002d099996f3f443.jpg: 480x640 (no detections), 142.7ms\n",
      "image 49/100 /Users/slimanitz/workspace/yolo/openimages/vehicle_registration_plate/images/002dab7b4f062545.jpg: 480x640 (no detections), 148.9ms\n",
      "image 50/100 /Users/slimanitz/workspace/yolo/openimages/vehicle_registration_plate/images/002f860e692757f7.jpg: 448x640 (no detections), 136.9ms\n",
      "image 51/100 /Users/slimanitz/workspace/yolo/openimages/vehicle_registration_plate/images/002fbf2de58da8b5.jpg: 416x640 (no detections), 126.8ms\n",
      "image 52/100 /Users/slimanitz/workspace/yolo/openimages/vehicle_registration_plate/images/0030164dc0dba5d9.jpg: 480x640 (no detections), 145.5ms\n",
      "image 53/100 /Users/slimanitz/workspace/yolo/openimages/vehicle_registration_plate/images/003551f1525e49af.jpg: 480x640 (no detections), 140.5ms\n",
      "image 54/100 /Users/slimanitz/workspace/yolo/openimages/vehicle_registration_plate/images/00366a52eec2943d.jpg: 480x640 (no detections), 151.0ms\n",
      "image 55/100 /Users/slimanitz/workspace/yolo/openimages/vehicle_registration_plate/images/0039ac4bfb8bd69d.jpg: 480x640 (no detections), 153.2ms\n",
      "image 56/100 /Users/slimanitz/workspace/yolo/openimages/vehicle_registration_plate/images/003a9e99a2753141.jpg: 480x640 (no detections), 187.7ms\n",
      "image 57/100 /Users/slimanitz/workspace/yolo/openimages/vehicle_registration_plate/images/003cd2790a0978ef.jpg: 256x640 (no detections), 182.1ms\n",
      "image 58/100 /Users/slimanitz/workspace/yolo/openimages/vehicle_registration_plate/images/003df8cf2effae50.jpg: 480x640 (no detections), 159.2ms\n",
      "image 59/100 /Users/slimanitz/workspace/yolo/openimages/vehicle_registration_plate/images/003f2728d2f8847e.jpg: 480x640 (no detections), 159.6ms\n",
      "image 60/100 /Users/slimanitz/workspace/yolo/openimages/vehicle_registration_plate/images/00403b390556e56d.jpg: 448x640 (no detections), 161.7ms\n",
      "image 61/100 /Users/slimanitz/workspace/yolo/openimages/vehicle_registration_plate/images/00438dad193f0c28.jpg: 448x640 (no detections), 142.0ms\n",
      "image 62/100 /Users/slimanitz/workspace/yolo/openimages/vehicle_registration_plate/images/0043cd2a3de997a5.jpg: 448x640 (no detections), 152.0ms\n",
      "image 63/100 /Users/slimanitz/workspace/yolo/openimages/vehicle_registration_plate/images/0043ea91600e3cb8.jpg: 640x480 (no detections), 148.1ms\n",
      "image 64/100 /Users/slimanitz/workspace/yolo/openimages/vehicle_registration_plate/images/0044535b6c092973.jpg: 480x640 (no detections), 151.8ms\n",
      "image 65/100 /Users/slimanitz/workspace/yolo/openimages/vehicle_registration_plate/images/0045d88407bab692.jpg: 480x640 (no detections), 153.3ms\n",
      "image 66/100 /Users/slimanitz/workspace/yolo/openimages/vehicle_registration_plate/images/004846b7de6995f2.jpg: 480x640 (no detections), 146.7ms\n",
      "image 67/100 /Users/slimanitz/workspace/yolo/openimages/vehicle_registration_plate/images/00492e9dbaf3c2a1.jpg: 352x640 (no detections), 229.2ms\n",
      "image 68/100 /Users/slimanitz/workspace/yolo/openimages/vehicle_registration_plate/images/00493f6c61b373d3.jpg: 480x640 (no detections), 166.2ms\n",
      "image 69/100 /Users/slimanitz/workspace/yolo/openimages/vehicle_registration_plate/images/00494d0811b9e652.jpg: 544x640 (no detections), 262.1ms\n",
      "image 70/100 /Users/slimanitz/workspace/yolo/openimages/vehicle_registration_plate/images/0049ed70c1b2d480.jpg: 480x640 (no detections), 217.6ms\n",
      "image 71/100 /Users/slimanitz/workspace/yolo/openimages/vehicle_registration_plate/images/004abd1e49165b1c.jpg: 448x640 (no detections), 145.8ms\n",
      "image 72/100 /Users/slimanitz/workspace/yolo/openimages/vehicle_registration_plate/images/004aebeb3dea697a.jpg: 448x640 (no detections), 142.8ms\n",
      "image 73/100 /Users/slimanitz/workspace/yolo/openimages/vehicle_registration_plate/images/004be6e7ea1c7ff8.jpg: 640x640 (no detections), 204.1ms\n",
      "image 74/100 /Users/slimanitz/workspace/yolo/openimages/vehicle_registration_plate/images/004ce6e46f66a306.jpg: 352x640 (no detections), 173.7ms\n",
      "image 75/100 /Users/slimanitz/workspace/yolo/openimages/vehicle_registration_plate/images/004e03d45963728e.jpg: 448x640 (no detections), 215.9ms\n",
      "image 76/100 /Users/slimanitz/workspace/yolo/openimages/vehicle_registration_plate/images/004e5085b8127281.jpg: 480x640 (no detections), 170.6ms\n",
      "image 77/100 /Users/slimanitz/workspace/yolo/openimages/vehicle_registration_plate/images/004f138ad0d084ae.jpg: 640x448 (no detections), 143.5ms\n",
      "image 78/100 /Users/slimanitz/workspace/yolo/openimages/vehicle_registration_plate/images/004f62edd382ccb8.jpg: 384x640 (no detections), 128.3ms\n",
      "image 79/100 /Users/slimanitz/workspace/yolo/openimages/vehicle_registration_plate/images/004fddebf0ac943c.jpg: 640x576 (no detections), 268.2ms\n",
      "image 80/100 /Users/slimanitz/workspace/yolo/openimages/vehicle_registration_plate/images/00541a1a33358591.jpg: 480x640 (no detections), 197.2ms\n",
      "image 81/100 /Users/slimanitz/workspace/yolo/openimages/vehicle_registration_plate/images/005706e3eb3d276f.jpg: 480x640 (no detections), 148.4ms\n",
      "image 82/100 /Users/slimanitz/workspace/yolo/openimages/vehicle_registration_plate/images/0058bbcd8f6c9572.jpg: 480x640 (no detections), 164.0ms\n",
      "image 83/100 /Users/slimanitz/workspace/yolo/openimages/vehicle_registration_plate/images/005932632ad92371.jpg: 448x640 (no detections), 278.7ms\n",
      "image 84/100 /Users/slimanitz/workspace/yolo/openimages/vehicle_registration_plate/images/005ced5a9813fb0f.jpg: 448x640 (no detections), 179.5ms\n",
      "image 85/100 /Users/slimanitz/workspace/yolo/openimages/vehicle_registration_plate/images/005e1faed531ae7e.jpg: 448x640 (no detections), 158.0ms\n",
      "image 86/100 /Users/slimanitz/workspace/yolo/openimages/vehicle_registration_plate/images/006017783a8beb66.jpg: 480x640 (no detections), 168.9ms\n",
      "image 87/100 /Users/slimanitz/workspace/yolo/openimages/vehicle_registration_plate/images/0061db4fbe34adad.jpg: 416x640 (no detections), 149.7ms\n",
      "image 88/100 /Users/slimanitz/workspace/yolo/openimages/vehicle_registration_plate/images/0063cc2c5f7d82ed.jpg: 480x640 (no detections), 208.9ms\n",
      "image 89/100 /Users/slimanitz/workspace/yolo/openimages/vehicle_registration_plate/images/0063e41b53567829.jpg: 384x640 (no detections), 144.2ms\n",
      "image 90/100 /Users/slimanitz/workspace/yolo/openimages/vehicle_registration_plate/images/0069ea8b00e4a8d7.jpg: 480x640 (no detections), 164.6ms\n",
      "image 91/100 /Users/slimanitz/workspace/yolo/openimages/vehicle_registration_plate/images/006a2f13b5b16c64.jpg: 480x640 (no detections), 196.1ms\n",
      "image 92/100 /Users/slimanitz/workspace/yolo/openimages/vehicle_registration_plate/images/006f44b210255845.jpg: 448x640 (no detections), 158.0ms\n",
      "image 93/100 /Users/slimanitz/workspace/yolo/openimages/vehicle_registration_plate/images/0071cc12dfe35d22.jpg: 640x640 (no detections), 203.9ms\n",
      "image 94/100 /Users/slimanitz/workspace/yolo/openimages/vehicle_registration_plate/images/0072870f87cb938b.jpg: 640x448 (no detections), 161.8ms\n",
      "image 95/100 /Users/slimanitz/workspace/yolo/openimages/vehicle_registration_plate/images/0073c6274e24e7d2.jpg: 384x640 (no detections), 138.9ms\n",
      "image 96/100 /Users/slimanitz/workspace/yolo/openimages/vehicle_registration_plate/images/00749e86d631cba0.jpg: 448x640 (no detections), 173.0ms\n",
      "image 97/100 /Users/slimanitz/workspace/yolo/openimages/vehicle_registration_plate/images/00777823afff31f7.jpg: 480x640 (no detections), 179.1ms\n",
      "image 98/100 /Users/slimanitz/workspace/yolo/openimages/vehicle_registration_plate/images/007909bbfb014a75.jpg: 448x640 (no detections), 169.7ms\n",
      "image 99/100 /Users/slimanitz/workspace/yolo/openimages/vehicle_registration_plate/images/007de6281e56f29e.jpg: 480x640 (no detections), 180.4ms\n",
      "image 100/100 /Users/slimanitz/workspace/yolo/openimages/vehicle_registration_plate/images/0080f94f60085954.jpg: 480x640 (no detections), 169.9ms\n",
      "Speed: 2.3ms preprocess, 161.5ms inference, 0.6ms postprocess per image at shape (1, 3, 480, 640)\n",
      "Results saved to \u001b[1mruns/detect/predict4\u001b[0m\n",
      "💡 Learn more at https://docs.ultralytics.com/modes/predict\n"
     ]
    }
   ],
   "source": [
    "!yolo task=detect mode=predict  source=./openimages/vehicle_registration_plate/images  model=./runs/detect/train/weights/best.pt  conf=0.25 \n"
   ]
  },
  {
   "cell_type": "code",
   "execution_count": null,
   "metadata": {},
   "outputs": [],
   "source": []
  }
 ],
 "metadata": {
  "kernelspec": {
   "display_name": "Python 3",
   "language": "python",
   "name": "python3"
  },
  "language_info": {
   "codemirror_mode": {
    "name": "ipython",
    "version": 3
   },
   "file_extension": ".py",
   "mimetype": "text/x-python",
   "name": "python",
   "nbconvert_exporter": "python",
   "pygments_lexer": "ipython3",
   "version": "3.11.8"
  },
  "orig_nbformat": 4
 },
 "nbformat": 4,
 "nbformat_minor": 2
}
